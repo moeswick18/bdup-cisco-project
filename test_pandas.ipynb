{
    "cells": [
        {
            "cell_type": "code",
            "execution_count": 3,
            "source": [
                "import pandas as pd\n",
                "\n",
                "df = pd.read_csv('iris.data')\n",
                "\n",
                "df.head(10)"
            ],
            "outputs": [
                {
                    "output_type": "execute_result",
                    "data": {
                        "text/plain": [
                            "   5.1  3.5  1.4  0.2  Iris-setosa\n",
                            "0  4.9  3.0  1.4  0.2  Iris-setosa\n",
                            "1  4.7  3.2  1.3  0.2  Iris-setosa\n",
                            "2  4.6  3.1  1.5  0.2  Iris-setosa\n",
                            "3  5.0  3.6  1.4  0.2  Iris-setosa\n",
                            "4  5.4  3.9  1.7  0.4  Iris-setosa\n",
                            "5  4.6  3.4  1.4  0.3  Iris-setosa\n",
                            "6  5.0  3.4  1.5  0.2  Iris-setosa\n",
                            "7  4.4  2.9  1.4  0.2  Iris-setosa\n",
                            "8  4.9  3.1  1.5  0.1  Iris-setosa\n",
                            "9  5.4  3.7  1.5  0.2  Iris-setosa"
                        ],
                        "text/html": [
                            "<div>\n",
                            "<style scoped>\n",
                            "    .dataframe tbody tr th:only-of-type {\n",
                            "        vertical-align: middle;\n",
                            "    }\n",
                            "\n",
                            "    .dataframe tbody tr th {\n",
                            "        vertical-align: top;\n",
                            "    }\n",
                            "\n",
                            "    .dataframe thead th {\n",
                            "        text-align: right;\n",
                            "    }\n",
                            "</style>\n",
                            "<table border=\"1\" class=\"dataframe\">\n",
                            "  <thead>\n",
                            "    <tr style=\"text-align: right;\">\n",
                            "      <th></th>\n",
                            "      <th>5.1</th>\n",
                            "      <th>3.5</th>\n",
                            "      <th>1.4</th>\n",
                            "      <th>0.2</th>\n",
                            "      <th>Iris-setosa</th>\n",
                            "    </tr>\n",
                            "  </thead>\n",
                            "  <tbody>\n",
                            "    <tr>\n",
                            "      <th>0</th>\n",
                            "      <td>4.9</td>\n",
                            "      <td>3.0</td>\n",
                            "      <td>1.4</td>\n",
                            "      <td>0.2</td>\n",
                            "      <td>Iris-setosa</td>\n",
                            "    </tr>\n",
                            "    <tr>\n",
                            "      <th>1</th>\n",
                            "      <td>4.7</td>\n",
                            "      <td>3.2</td>\n",
                            "      <td>1.3</td>\n",
                            "      <td>0.2</td>\n",
                            "      <td>Iris-setosa</td>\n",
                            "    </tr>\n",
                            "    <tr>\n",
                            "      <th>2</th>\n",
                            "      <td>4.6</td>\n",
                            "      <td>3.1</td>\n",
                            "      <td>1.5</td>\n",
                            "      <td>0.2</td>\n",
                            "      <td>Iris-setosa</td>\n",
                            "    </tr>\n",
                            "    <tr>\n",
                            "      <th>3</th>\n",
                            "      <td>5.0</td>\n",
                            "      <td>3.6</td>\n",
                            "      <td>1.4</td>\n",
                            "      <td>0.2</td>\n",
                            "      <td>Iris-setosa</td>\n",
                            "    </tr>\n",
                            "    <tr>\n",
                            "      <th>4</th>\n",
                            "      <td>5.4</td>\n",
                            "      <td>3.9</td>\n",
                            "      <td>1.7</td>\n",
                            "      <td>0.4</td>\n",
                            "      <td>Iris-setosa</td>\n",
                            "    </tr>\n",
                            "    <tr>\n",
                            "      <th>5</th>\n",
                            "      <td>4.6</td>\n",
                            "      <td>3.4</td>\n",
                            "      <td>1.4</td>\n",
                            "      <td>0.3</td>\n",
                            "      <td>Iris-setosa</td>\n",
                            "    </tr>\n",
                            "    <tr>\n",
                            "      <th>6</th>\n",
                            "      <td>5.0</td>\n",
                            "      <td>3.4</td>\n",
                            "      <td>1.5</td>\n",
                            "      <td>0.2</td>\n",
                            "      <td>Iris-setosa</td>\n",
                            "    </tr>\n",
                            "    <tr>\n",
                            "      <th>7</th>\n",
                            "      <td>4.4</td>\n",
                            "      <td>2.9</td>\n",
                            "      <td>1.4</td>\n",
                            "      <td>0.2</td>\n",
                            "      <td>Iris-setosa</td>\n",
                            "    </tr>\n",
                            "    <tr>\n",
                            "      <th>8</th>\n",
                            "      <td>4.9</td>\n",
                            "      <td>3.1</td>\n",
                            "      <td>1.5</td>\n",
                            "      <td>0.1</td>\n",
                            "      <td>Iris-setosa</td>\n",
                            "    </tr>\n",
                            "    <tr>\n",
                            "      <th>9</th>\n",
                            "      <td>5.4</td>\n",
                            "      <td>3.7</td>\n",
                            "      <td>1.5</td>\n",
                            "      <td>0.2</td>\n",
                            "      <td>Iris-setosa</td>\n",
                            "    </tr>\n",
                            "  </tbody>\n",
                            "</table>\n",
                            "</div>"
                        ]
                    },
                    "metadata": {},
                    "execution_count": 3
                }
            ],
            "metadata": {}
        },
        {
            "cell_type": "code",
            "execution_count": 6,
            "source": [
                "dataku = pd.DataFrame({'Yes': [50, 21, 30], 'No': [131, 2, 50]})\n",
                "dataku.head()"
            ],
            "outputs": [
                {
                    "output_type": "execute_result",
                    "data": {
                        "text/plain": [
                            "   Yes   No\n",
                            "0   50  131\n",
                            "1   21    2\n",
                            "2   30   50"
                        ],
                        "text/html": [
                            "<div>\n",
                            "<style scoped>\n",
                            "    .dataframe tbody tr th:only-of-type {\n",
                            "        vertical-align: middle;\n",
                            "    }\n",
                            "\n",
                            "    .dataframe tbody tr th {\n",
                            "        vertical-align: top;\n",
                            "    }\n",
                            "\n",
                            "    .dataframe thead th {\n",
                            "        text-align: right;\n",
                            "    }\n",
                            "</style>\n",
                            "<table border=\"1\" class=\"dataframe\">\n",
                            "  <thead>\n",
                            "    <tr style=\"text-align: right;\">\n",
                            "      <th></th>\n",
                            "      <th>Yes</th>\n",
                            "      <th>No</th>\n",
                            "    </tr>\n",
                            "  </thead>\n",
                            "  <tbody>\n",
                            "    <tr>\n",
                            "      <th>0</th>\n",
                            "      <td>50</td>\n",
                            "      <td>131</td>\n",
                            "    </tr>\n",
                            "    <tr>\n",
                            "      <th>1</th>\n",
                            "      <td>21</td>\n",
                            "      <td>2</td>\n",
                            "    </tr>\n",
                            "    <tr>\n",
                            "      <th>2</th>\n",
                            "      <td>30</td>\n",
                            "      <td>50</td>\n",
                            "    </tr>\n",
                            "  </tbody>\n",
                            "</table>\n",
                            "</div>"
                        ]
                    },
                    "metadata": {},
                    "execution_count": 6
                }
            ],
            "metadata": {}
        },
        {
            "cell_type": "code",
            "execution_count": 7,
            "source": [
                "df['Iris-setosa'].dtype"
            ],
            "outputs": [
                {
                    "output_type": "execute_result",
                    "data": {
                        "text/plain": [
                            "dtype('O')"
                        ]
                    },
                    "metadata": {},
                    "execution_count": 7
                }
            ],
            "metadata": {}
        },
        {
            "cell_type": "code",
            "execution_count": 8,
            "source": [
                "df.columns"
            ],
            "outputs": [
                {
                    "output_type": "execute_result",
                    "data": {
                        "text/plain": [
                            "Index(['5.1', '3.5', '1.4', '0.2', 'Iris-setosa'], dtype='object')"
                        ]
                    },
                    "metadata": {},
                    "execution_count": 8
                }
            ],
            "metadata": {}
        },
        {
            "cell_type": "code",
            "execution_count": 9,
            "source": [
                "df.axes"
            ],
            "outputs": [
                {
                    "output_type": "execute_result",
                    "data": {
                        "text/plain": [
                            "[RangeIndex(start=0, stop=149, step=1),\n",
                            " Index(['5.1', '3.5', '1.4', '0.2', 'Iris-setosa'], dtype='object')]"
                        ]
                    },
                    "metadata": {},
                    "execution_count": 9
                }
            ],
            "metadata": {}
        },
        {
            "cell_type": "code",
            "execution_count": 11,
            "source": [
                "df.ndim"
            ],
            "outputs": [
                {
                    "output_type": "execute_result",
                    "data": {
                        "text/plain": [
                            "2"
                        ]
                    },
                    "metadata": {},
                    "execution_count": 11
                }
            ],
            "metadata": {}
        },
        {
            "cell_type": "code",
            "execution_count": 12,
            "source": [
                "df.size"
            ],
            "outputs": [
                {
                    "output_type": "execute_result",
                    "data": {
                        "text/plain": [
                            "745"
                        ]
                    },
                    "metadata": {},
                    "execution_count": 12
                }
            ],
            "metadata": {}
        },
        {
            "cell_type": "code",
            "execution_count": 13,
            "source": [
                "df.shape"
            ],
            "outputs": [
                {
                    "output_type": "execute_result",
                    "data": {
                        "text/plain": [
                            "(149, 5)"
                        ]
                    },
                    "metadata": {},
                    "execution_count": 13
                }
            ],
            "metadata": {}
        },
        {
            "cell_type": "code",
            "execution_count": 14,
            "source": [
                "df.values"
            ],
            "outputs": [
                {
                    "output_type": "execute_result",
                    "data": {
                        "text/plain": [
                            "array([[4.9, 3.0, 1.4, 0.2, 'Iris-setosa'],\n",
                            "       [4.7, 3.2, 1.3, 0.2, 'Iris-setosa'],\n",
                            "       [4.6, 3.1, 1.5, 0.2, 'Iris-setosa'],\n",
                            "       [5.0, 3.6, 1.4, 0.2, 'Iris-setosa'],\n",
                            "       [5.4, 3.9, 1.7, 0.4, 'Iris-setosa'],\n",
                            "       [4.6, 3.4, 1.4, 0.3, 'Iris-setosa'],\n",
                            "       [5.0, 3.4, 1.5, 0.2, 'Iris-setosa'],\n",
                            "       [4.4, 2.9, 1.4, 0.2, 'Iris-setosa'],\n",
                            "       [4.9, 3.1, 1.5, 0.1, 'Iris-setosa'],\n",
                            "       [5.4, 3.7, 1.5, 0.2, 'Iris-setosa'],\n",
                            "       [4.8, 3.4, 1.6, 0.2, 'Iris-setosa'],\n",
                            "       [4.8, 3.0, 1.4, 0.1, 'Iris-setosa'],\n",
                            "       [4.3, 3.0, 1.1, 0.1, 'Iris-setosa'],\n",
                            "       [5.8, 4.0, 1.2, 0.2, 'Iris-setosa'],\n",
                            "       [5.7, 4.4, 1.5, 0.4, 'Iris-setosa'],\n",
                            "       [5.4, 3.9, 1.3, 0.4, 'Iris-setosa'],\n",
                            "       [5.1, 3.5, 1.4, 0.3, 'Iris-setosa'],\n",
                            "       [5.7, 3.8, 1.7, 0.3, 'Iris-setosa'],\n",
                            "       [5.1, 3.8, 1.5, 0.3, 'Iris-setosa'],\n",
                            "       [5.4, 3.4, 1.7, 0.2, 'Iris-setosa'],\n",
                            "       [5.1, 3.7, 1.5, 0.4, 'Iris-setosa'],\n",
                            "       [4.6, 3.6, 1.0, 0.2, 'Iris-setosa'],\n",
                            "       [5.1, 3.3, 1.7, 0.5, 'Iris-setosa'],\n",
                            "       [4.8, 3.4, 1.9, 0.2, 'Iris-setosa'],\n",
                            "       [5.0, 3.0, 1.6, 0.2, 'Iris-setosa'],\n",
                            "       [5.0, 3.4, 1.6, 0.4, 'Iris-setosa'],\n",
                            "       [5.2, 3.5, 1.5, 0.2, 'Iris-setosa'],\n",
                            "       [5.2, 3.4, 1.4, 0.2, 'Iris-setosa'],\n",
                            "       [4.7, 3.2, 1.6, 0.2, 'Iris-setosa'],\n",
                            "       [4.8, 3.1, 1.6, 0.2, 'Iris-setosa'],\n",
                            "       [5.4, 3.4, 1.5, 0.4, 'Iris-setosa'],\n",
                            "       [5.2, 4.1, 1.5, 0.1, 'Iris-setosa'],\n",
                            "       [5.5, 4.2, 1.4, 0.2, 'Iris-setosa'],\n",
                            "       [4.9, 3.1, 1.5, 0.1, 'Iris-setosa'],\n",
                            "       [5.0, 3.2, 1.2, 0.2, 'Iris-setosa'],\n",
                            "       [5.5, 3.5, 1.3, 0.2, 'Iris-setosa'],\n",
                            "       [4.9, 3.1, 1.5, 0.1, 'Iris-setosa'],\n",
                            "       [4.4, 3.0, 1.3, 0.2, 'Iris-setosa'],\n",
                            "       [5.1, 3.4, 1.5, 0.2, 'Iris-setosa'],\n",
                            "       [5.0, 3.5, 1.3, 0.3, 'Iris-setosa'],\n",
                            "       [4.5, 2.3, 1.3, 0.3, 'Iris-setosa'],\n",
                            "       [4.4, 3.2, 1.3, 0.2, 'Iris-setosa'],\n",
                            "       [5.0, 3.5, 1.6, 0.6, 'Iris-setosa'],\n",
                            "       [5.1, 3.8, 1.9, 0.4, 'Iris-setosa'],\n",
                            "       [4.8, 3.0, 1.4, 0.3, 'Iris-setosa'],\n",
                            "       [5.1, 3.8, 1.6, 0.2, 'Iris-setosa'],\n",
                            "       [4.6, 3.2, 1.4, 0.2, 'Iris-setosa'],\n",
                            "       [5.3, 3.7, 1.5, 0.2, 'Iris-setosa'],\n",
                            "       [5.0, 3.3, 1.4, 0.2, 'Iris-setosa'],\n",
                            "       [7.0, 3.2, 4.7, 1.4, 'Iris-versicolor'],\n",
                            "       [6.4, 3.2, 4.5, 1.5, 'Iris-versicolor'],\n",
                            "       [6.9, 3.1, 4.9, 1.5, 'Iris-versicolor'],\n",
                            "       [5.5, 2.3, 4.0, 1.3, 'Iris-versicolor'],\n",
                            "       [6.5, 2.8, 4.6, 1.5, 'Iris-versicolor'],\n",
                            "       [5.7, 2.8, 4.5, 1.3, 'Iris-versicolor'],\n",
                            "       [6.3, 3.3, 4.7, 1.6, 'Iris-versicolor'],\n",
                            "       [4.9, 2.4, 3.3, 1.0, 'Iris-versicolor'],\n",
                            "       [6.6, 2.9, 4.6, 1.3, 'Iris-versicolor'],\n",
                            "       [5.2, 2.7, 3.9, 1.4, 'Iris-versicolor'],\n",
                            "       [5.0, 2.0, 3.5, 1.0, 'Iris-versicolor'],\n",
                            "       [5.9, 3.0, 4.2, 1.5, 'Iris-versicolor'],\n",
                            "       [6.0, 2.2, 4.0, 1.0, 'Iris-versicolor'],\n",
                            "       [6.1, 2.9, 4.7, 1.4, 'Iris-versicolor'],\n",
                            "       [5.6, 2.9, 3.6, 1.3, 'Iris-versicolor'],\n",
                            "       [6.7, 3.1, 4.4, 1.4, 'Iris-versicolor'],\n",
                            "       [5.6, 3.0, 4.5, 1.5, 'Iris-versicolor'],\n",
                            "       [5.8, 2.7, 4.1, 1.0, 'Iris-versicolor'],\n",
                            "       [6.2, 2.2, 4.5, 1.5, 'Iris-versicolor'],\n",
                            "       [5.6, 2.5, 3.9, 1.1, 'Iris-versicolor'],\n",
                            "       [5.9, 3.2, 4.8, 1.8, 'Iris-versicolor'],\n",
                            "       [6.1, 2.8, 4.0, 1.3, 'Iris-versicolor'],\n",
                            "       [6.3, 2.5, 4.9, 1.5, 'Iris-versicolor'],\n",
                            "       [6.1, 2.8, 4.7, 1.2, 'Iris-versicolor'],\n",
                            "       [6.4, 2.9, 4.3, 1.3, 'Iris-versicolor'],\n",
                            "       [6.6, 3.0, 4.4, 1.4, 'Iris-versicolor'],\n",
                            "       [6.8, 2.8, 4.8, 1.4, 'Iris-versicolor'],\n",
                            "       [6.7, 3.0, 5.0, 1.7, 'Iris-versicolor'],\n",
                            "       [6.0, 2.9, 4.5, 1.5, 'Iris-versicolor'],\n",
                            "       [5.7, 2.6, 3.5, 1.0, 'Iris-versicolor'],\n",
                            "       [5.5, 2.4, 3.8, 1.1, 'Iris-versicolor'],\n",
                            "       [5.5, 2.4, 3.7, 1.0, 'Iris-versicolor'],\n",
                            "       [5.8, 2.7, 3.9, 1.2, 'Iris-versicolor'],\n",
                            "       [6.0, 2.7, 5.1, 1.6, 'Iris-versicolor'],\n",
                            "       [5.4, 3.0, 4.5, 1.5, 'Iris-versicolor'],\n",
                            "       [6.0, 3.4, 4.5, 1.6, 'Iris-versicolor'],\n",
                            "       [6.7, 3.1, 4.7, 1.5, 'Iris-versicolor'],\n",
                            "       [6.3, 2.3, 4.4, 1.3, 'Iris-versicolor'],\n",
                            "       [5.6, 3.0, 4.1, 1.3, 'Iris-versicolor'],\n",
                            "       [5.5, 2.5, 4.0, 1.3, 'Iris-versicolor'],\n",
                            "       [5.5, 2.6, 4.4, 1.2, 'Iris-versicolor'],\n",
                            "       [6.1, 3.0, 4.6, 1.4, 'Iris-versicolor'],\n",
                            "       [5.8, 2.6, 4.0, 1.2, 'Iris-versicolor'],\n",
                            "       [5.0, 2.3, 3.3, 1.0, 'Iris-versicolor'],\n",
                            "       [5.6, 2.7, 4.2, 1.3, 'Iris-versicolor'],\n",
                            "       [5.7, 3.0, 4.2, 1.2, 'Iris-versicolor'],\n",
                            "       [5.7, 2.9, 4.2, 1.3, 'Iris-versicolor'],\n",
                            "       [6.2, 2.9, 4.3, 1.3, 'Iris-versicolor'],\n",
                            "       [5.1, 2.5, 3.0, 1.1, 'Iris-versicolor'],\n",
                            "       [5.7, 2.8, 4.1, 1.3, 'Iris-versicolor'],\n",
                            "       [6.3, 3.3, 6.0, 2.5, 'Iris-virginica'],\n",
                            "       [5.8, 2.7, 5.1, 1.9, 'Iris-virginica'],\n",
                            "       [7.1, 3.0, 5.9, 2.1, 'Iris-virginica'],\n",
                            "       [6.3, 2.9, 5.6, 1.8, 'Iris-virginica'],\n",
                            "       [6.5, 3.0, 5.8, 2.2, 'Iris-virginica'],\n",
                            "       [7.6, 3.0, 6.6, 2.1, 'Iris-virginica'],\n",
                            "       [4.9, 2.5, 4.5, 1.7, 'Iris-virginica'],\n",
                            "       [7.3, 2.9, 6.3, 1.8, 'Iris-virginica'],\n",
                            "       [6.7, 2.5, 5.8, 1.8, 'Iris-virginica'],\n",
                            "       [7.2, 3.6, 6.1, 2.5, 'Iris-virginica'],\n",
                            "       [6.5, 3.2, 5.1, 2.0, 'Iris-virginica'],\n",
                            "       [6.4, 2.7, 5.3, 1.9, 'Iris-virginica'],\n",
                            "       [6.8, 3.0, 5.5, 2.1, 'Iris-virginica'],\n",
                            "       [5.7, 2.5, 5.0, 2.0, 'Iris-virginica'],\n",
                            "       [5.8, 2.8, 5.1, 2.4, 'Iris-virginica'],\n",
                            "       [6.4, 3.2, 5.3, 2.3, 'Iris-virginica'],\n",
                            "       [6.5, 3.0, 5.5, 1.8, 'Iris-virginica'],\n",
                            "       [7.7, 3.8, 6.7, 2.2, 'Iris-virginica'],\n",
                            "       [7.7, 2.6, 6.9, 2.3, 'Iris-virginica'],\n",
                            "       [6.0, 2.2, 5.0, 1.5, 'Iris-virginica'],\n",
                            "       [6.9, 3.2, 5.7, 2.3, 'Iris-virginica'],\n",
                            "       [5.6, 2.8, 4.9, 2.0, 'Iris-virginica'],\n",
                            "       [7.7, 2.8, 6.7, 2.0, 'Iris-virginica'],\n",
                            "       [6.3, 2.7, 4.9, 1.8, 'Iris-virginica'],\n",
                            "       [6.7, 3.3, 5.7, 2.1, 'Iris-virginica'],\n",
                            "       [7.2, 3.2, 6.0, 1.8, 'Iris-virginica'],\n",
                            "       [6.2, 2.8, 4.8, 1.8, 'Iris-virginica'],\n",
                            "       [6.1, 3.0, 4.9, 1.8, 'Iris-virginica'],\n",
                            "       [6.4, 2.8, 5.6, 2.1, 'Iris-virginica'],\n",
                            "       [7.2, 3.0, 5.8, 1.6, 'Iris-virginica'],\n",
                            "       [7.4, 2.8, 6.1, 1.9, 'Iris-virginica'],\n",
                            "       [7.9, 3.8, 6.4, 2.0, 'Iris-virginica'],\n",
                            "       [6.4, 2.8, 5.6, 2.2, 'Iris-virginica'],\n",
                            "       [6.3, 2.8, 5.1, 1.5, 'Iris-virginica'],\n",
                            "       [6.1, 2.6, 5.6, 1.4, 'Iris-virginica'],\n",
                            "       [7.7, 3.0, 6.1, 2.3, 'Iris-virginica'],\n",
                            "       [6.3, 3.4, 5.6, 2.4, 'Iris-virginica'],\n",
                            "       [6.4, 3.1, 5.5, 1.8, 'Iris-virginica'],\n",
                            "       [6.0, 3.0, 4.8, 1.8, 'Iris-virginica'],\n",
                            "       [6.9, 3.1, 5.4, 2.1, 'Iris-virginica'],\n",
                            "       [6.7, 3.1, 5.6, 2.4, 'Iris-virginica'],\n",
                            "       [6.9, 3.1, 5.1, 2.3, 'Iris-virginica'],\n",
                            "       [5.8, 2.7, 5.1, 1.9, 'Iris-virginica'],\n",
                            "       [6.8, 3.2, 5.9, 2.3, 'Iris-virginica'],\n",
                            "       [6.7, 3.3, 5.7, 2.5, 'Iris-virginica'],\n",
                            "       [6.7, 3.0, 5.2, 2.3, 'Iris-virginica'],\n",
                            "       [6.3, 2.5, 5.0, 1.9, 'Iris-virginica'],\n",
                            "       [6.5, 3.0, 5.2, 2.0, 'Iris-virginica'],\n",
                            "       [6.2, 3.4, 5.4, 2.3, 'Iris-virginica'],\n",
                            "       [5.9, 3.0, 5.1, 1.8, 'Iris-virginica']], dtype=object)"
                        ]
                    },
                    "metadata": {},
                    "execution_count": 14
                }
            ],
            "metadata": {}
        },
        {
            "cell_type": "code",
            "execution_count": 16,
            "source": [
                "df.describe()"
            ],
            "outputs": [
                {
                    "output_type": "execute_result",
                    "data": {
                        "text/plain": [
                            "              5.1         3.5         1.4         0.2\n",
                            "count  149.000000  149.000000  149.000000  149.000000\n",
                            "mean     5.848322    3.051007    3.774497    1.205369\n",
                            "std      0.828594    0.433499    1.759651    0.761292\n",
                            "min      4.300000    2.000000    1.000000    0.100000\n",
                            "25%      5.100000    2.800000    1.600000    0.300000\n",
                            "50%      5.800000    3.000000    4.400000    1.300000\n",
                            "75%      6.400000    3.300000    5.100000    1.800000\n",
                            "max      7.900000    4.400000    6.900000    2.500000"
                        ],
                        "text/html": [
                            "<div>\n",
                            "<style scoped>\n",
                            "    .dataframe tbody tr th:only-of-type {\n",
                            "        vertical-align: middle;\n",
                            "    }\n",
                            "\n",
                            "    .dataframe tbody tr th {\n",
                            "        vertical-align: top;\n",
                            "    }\n",
                            "\n",
                            "    .dataframe thead th {\n",
                            "        text-align: right;\n",
                            "    }\n",
                            "</style>\n",
                            "<table border=\"1\" class=\"dataframe\">\n",
                            "  <thead>\n",
                            "    <tr style=\"text-align: right;\">\n",
                            "      <th></th>\n",
                            "      <th>5.1</th>\n",
                            "      <th>3.5</th>\n",
                            "      <th>1.4</th>\n",
                            "      <th>0.2</th>\n",
                            "    </tr>\n",
                            "  </thead>\n",
                            "  <tbody>\n",
                            "    <tr>\n",
                            "      <th>count</th>\n",
                            "      <td>149.000000</td>\n",
                            "      <td>149.000000</td>\n",
                            "      <td>149.000000</td>\n",
                            "      <td>149.000000</td>\n",
                            "    </tr>\n",
                            "    <tr>\n",
                            "      <th>mean</th>\n",
                            "      <td>5.848322</td>\n",
                            "      <td>3.051007</td>\n",
                            "      <td>3.774497</td>\n",
                            "      <td>1.205369</td>\n",
                            "    </tr>\n",
                            "    <tr>\n",
                            "      <th>std</th>\n",
                            "      <td>0.828594</td>\n",
                            "      <td>0.433499</td>\n",
                            "      <td>1.759651</td>\n",
                            "      <td>0.761292</td>\n",
                            "    </tr>\n",
                            "    <tr>\n",
                            "      <th>min</th>\n",
                            "      <td>4.300000</td>\n",
                            "      <td>2.000000</td>\n",
                            "      <td>1.000000</td>\n",
                            "      <td>0.100000</td>\n",
                            "    </tr>\n",
                            "    <tr>\n",
                            "      <th>25%</th>\n",
                            "      <td>5.100000</td>\n",
                            "      <td>2.800000</td>\n",
                            "      <td>1.600000</td>\n",
                            "      <td>0.300000</td>\n",
                            "    </tr>\n",
                            "    <tr>\n",
                            "      <th>50%</th>\n",
                            "      <td>5.800000</td>\n",
                            "      <td>3.000000</td>\n",
                            "      <td>4.400000</td>\n",
                            "      <td>1.300000</td>\n",
                            "    </tr>\n",
                            "    <tr>\n",
                            "      <th>75%</th>\n",
                            "      <td>6.400000</td>\n",
                            "      <td>3.300000</td>\n",
                            "      <td>5.100000</td>\n",
                            "      <td>1.800000</td>\n",
                            "    </tr>\n",
                            "    <tr>\n",
                            "      <th>max</th>\n",
                            "      <td>7.900000</td>\n",
                            "      <td>4.400000</td>\n",
                            "      <td>6.900000</td>\n",
                            "      <td>2.500000</td>\n",
                            "    </tr>\n",
                            "  </tbody>\n",
                            "</table>\n",
                            "</div>"
                        ]
                    },
                    "metadata": {},
                    "execution_count": 16
                }
            ],
            "metadata": {}
        },
        {
            "cell_type": "code",
            "execution_count": 17,
            "source": [
                "std = df.std()\n",
                "std"
            ],
            "outputs": [
                {
                    "output_type": "stream",
                    "name": "stderr",
                    "text": [
                        "<ipython-input-17-c52aa9c3833b>:1: FutureWarning: Dropping of nuisance columns in DataFrame reductions (with 'numeric_only=None') is deprecated; in a future version this will raise TypeError.  Select only valid columns before calling the reduction.\n",
                        "  std = df.std()\n"
                    ]
                },
                {
                    "output_type": "execute_result",
                    "data": {
                        "text/plain": [
                            "5.1    0.828594\n",
                            "3.5    0.433499\n",
                            "1.4    1.759651\n",
                            "0.2    0.761292\n",
                            "dtype: float64"
                        ]
                    },
                    "metadata": {},
                    "execution_count": 17
                }
            ],
            "metadata": {}
        },
        {
            "cell_type": "code",
            "execution_count": 18,
            "source": [
                "slice_data = df.head(100)\n",
                "print(slice_data['5.1'].mean())"
            ],
            "outputs": [
                {
                    "output_type": "stream",
                    "name": "stdout",
                    "text": [
                        "5.483000000000001\n"
                    ]
                }
            ],
            "metadata": {}
        },
        {
            "cell_type": "code",
            "execution_count": null,
            "source": [],
            "outputs": [],
            "metadata": {}
        }
    ],
    "metadata": {
        "orig_nbformat": 4,
        "language_info": {
            "name": "python",
            "version": "3.8.10",
            "mimetype": "text/x-python",
            "codemirror_mode": {
                "name": "ipython",
                "version": 3
            },
            "pygments_lexer": "ipython3",
            "nbconvert_exporter": "python",
            "file_extension": ".py"
        },
        "kernelspec": {
            "name": "python3",
            "display_name": "Python 3.8.10 64-bit ('base': conda)"
        },
        "interpreter": {
            "hash": "59c267ddd2992390f6f002e47111464b5dc3dff0a486d17ced10b2be73ffdba5"
        }
    },
    "nbformat": 4,
    "nbformat_minor": 2
}